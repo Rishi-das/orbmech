{
 "cells": [
  {
   "cell_type": "code",
   "execution_count": null,
   "id": "dd05507d",
   "metadata": {},
   "outputs": [],
   "source": [
    "import sys\n",
    "import os\n",
    "\n",
    "sys.path.append(\"C:/Users/Rishita/Desktop/orbmech\")\n",
    "\n",
    "from orbmech import simulate_orbit, classify_orbit, plot_orbit"
   ]
  },
  {
   "cell_type": "code",
   "execution_count": null,
   "id": "5d01daff",
   "metadata": {},
   "outputs": [],
   "source": [
    "# notebooks/orbit_demo.ipynb\n",
    "\n",
    "from orbmech import simulate_orbit, classify_orbit, plot_orbit\n",
    "\n",
    "# Define initial conditions\n",
    "initial_conditions = {'semi_major_axis': 1.0, 'eccentricity': 0.1}\n",
    "\n",
    "# Simulate the orbit\n",
    "result = simulate_orbit(initial_conditions)\n",
    "\n",
    "# Classify the orbit type\n",
    "orbit_type = classify_orbit(result)\n",
    "\n",
    "# Plot the orbit\n",
    "plot_orbit(result)\n",
    "\n",
    "print(\"Orbit Type:\", orbit_type)\n"
   ]
  }
 ],
 "metadata": {
  "kernelspec": {
   "display_name": "env_ris",
   "language": "python",
   "name": "python3"
  },
  "language_info": {
   "name": "python",
   "version": "3.7.16"
  }
 },
 "nbformat": 4,
 "nbformat_minor": 5
}
